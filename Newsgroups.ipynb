{
  "nbformat": 4,
  "nbformat_minor": 0,
  "metadata": {
    "colab": {
      "provenance": [],
      "authorship_tag": "ABX9TyMg6/STRePuxA/91xIqWKsZ",
      "include_colab_link": true
    },
    "kernelspec": {
      "name": "python3",
      "display_name": "Python 3"
    },
    "language_info": {
      "name": "python"
    }
  },
  "cells": [
    {
      "cell_type": "markdown",
      "metadata": {
        "id": "view-in-github",
        "colab_type": "text"
      },
      "source": [
        "<a href=\"https://colab.research.google.com/github/vishalkandukuri97/AI-ML-Projects/blob/main/Newsgroups.ipynb\" target=\"_parent\"><img src=\"https://colab.research.google.com/assets/colab-badge.svg\" alt=\"Open In Colab\"/></a>"
      ]
    },
    {
      "cell_type": "code",
      "source": [
        "!pip install gradio"
      ],
      "metadata": {
        "colab": {
          "base_uri": "https://localhost:8080/"
        },
        "id": "oiFX3e2h01HU",
        "outputId": "050185a7-f7e6-4423-eb00-dae873247ddb"
      },
      "execution_count": 2,
      "outputs": [
        {
          "output_type": "stream",
          "name": "stdout",
          "text": [
            "Requirement already satisfied: gradio in /usr/local/lib/python3.12/dist-packages (5.43.1)\n",
            "Requirement already satisfied: aiofiles<25.0,>=22.0 in /usr/local/lib/python3.12/dist-packages (from gradio) (24.1.0)\n",
            "Requirement already satisfied: anyio<5.0,>=3.0 in /usr/local/lib/python3.12/dist-packages (from gradio) (4.10.0)\n",
            "Requirement already satisfied: brotli>=1.1.0 in /usr/local/lib/python3.12/dist-packages (from gradio) (1.1.0)\n",
            "Requirement already satisfied: fastapi<1.0,>=0.115.2 in /usr/local/lib/python3.12/dist-packages (from gradio) (0.116.1)\n",
            "Requirement already satisfied: ffmpy in /usr/local/lib/python3.12/dist-packages (from gradio) (0.6.1)\n",
            "Requirement already satisfied: gradio-client==1.12.1 in /usr/local/lib/python3.12/dist-packages (from gradio) (1.12.1)\n",
            "Requirement already satisfied: groovy~=0.1 in /usr/local/lib/python3.12/dist-packages (from gradio) (0.1.2)\n",
            "Requirement already satisfied: httpx<1.0,>=0.24.1 in /usr/local/lib/python3.12/dist-packages (from gradio) (0.28.1)\n",
            "Requirement already satisfied: huggingface-hub<1.0,>=0.33.5 in /usr/local/lib/python3.12/dist-packages (from gradio) (0.34.4)\n",
            "Requirement already satisfied: jinja2<4.0 in /usr/local/lib/python3.12/dist-packages (from gradio) (3.1.6)\n",
            "Requirement already satisfied: markupsafe<4.0,>=2.0 in /usr/local/lib/python3.12/dist-packages (from gradio) (3.0.2)\n",
            "Requirement already satisfied: numpy<3.0,>=1.0 in /usr/local/lib/python3.12/dist-packages (from gradio) (2.0.2)\n",
            "Requirement already satisfied: orjson~=3.0 in /usr/local/lib/python3.12/dist-packages (from gradio) (3.11.2)\n",
            "Requirement already satisfied: packaging in /usr/local/lib/python3.12/dist-packages (from gradio) (25.0)\n",
            "Requirement already satisfied: pandas<3.0,>=1.0 in /usr/local/lib/python3.12/dist-packages (from gradio) (2.2.2)\n",
            "Requirement already satisfied: pillow<12.0,>=8.0 in /usr/local/lib/python3.12/dist-packages (from gradio) (11.3.0)\n",
            "Requirement already satisfied: pydantic<2.12,>=2.0 in /usr/local/lib/python3.12/dist-packages (from gradio) (2.11.7)\n",
            "Requirement already satisfied: pydub in /usr/local/lib/python3.12/dist-packages (from gradio) (0.25.1)\n",
            "Requirement already satisfied: python-multipart>=0.0.18 in /usr/local/lib/python3.12/dist-packages (from gradio) (0.0.20)\n",
            "Requirement already satisfied: pyyaml<7.0,>=5.0 in /usr/local/lib/python3.12/dist-packages (from gradio) (6.0.2)\n",
            "Requirement already satisfied: ruff>=0.9.3 in /usr/local/lib/python3.12/dist-packages (from gradio) (0.12.10)\n",
            "Requirement already satisfied: safehttpx<0.2.0,>=0.1.6 in /usr/local/lib/python3.12/dist-packages (from gradio) (0.1.6)\n",
            "Requirement already satisfied: semantic-version~=2.0 in /usr/local/lib/python3.12/dist-packages (from gradio) (2.10.0)\n",
            "Requirement already satisfied: starlette<1.0,>=0.40.0 in /usr/local/lib/python3.12/dist-packages (from gradio) (0.47.3)\n",
            "Requirement already satisfied: tomlkit<0.14.0,>=0.12.0 in /usr/local/lib/python3.12/dist-packages (from gradio) (0.13.3)\n",
            "Requirement already satisfied: typer<1.0,>=0.12 in /usr/local/lib/python3.12/dist-packages (from gradio) (0.16.1)\n",
            "Requirement already satisfied: typing-extensions~=4.0 in /usr/local/lib/python3.12/dist-packages (from gradio) (4.15.0)\n",
            "Requirement already satisfied: uvicorn>=0.14.0 in /usr/local/lib/python3.12/dist-packages (from gradio) (0.35.0)\n",
            "Requirement already satisfied: fsspec in /usr/local/lib/python3.12/dist-packages (from gradio-client==1.12.1->gradio) (2025.3.0)\n",
            "Requirement already satisfied: websockets<16.0,>=10.0 in /usr/local/lib/python3.12/dist-packages (from gradio-client==1.12.1->gradio) (15.0.1)\n",
            "Requirement already satisfied: idna>=2.8 in /usr/local/lib/python3.12/dist-packages (from anyio<5.0,>=3.0->gradio) (3.10)\n",
            "Requirement already satisfied: sniffio>=1.1 in /usr/local/lib/python3.12/dist-packages (from anyio<5.0,>=3.0->gradio) (1.3.1)\n",
            "Requirement already satisfied: certifi in /usr/local/lib/python3.12/dist-packages (from httpx<1.0,>=0.24.1->gradio) (2025.8.3)\n",
            "Requirement already satisfied: httpcore==1.* in /usr/local/lib/python3.12/dist-packages (from httpx<1.0,>=0.24.1->gradio) (1.0.9)\n",
            "Requirement already satisfied: h11>=0.16 in /usr/local/lib/python3.12/dist-packages (from httpcore==1.*->httpx<1.0,>=0.24.1->gradio) (0.16.0)\n",
            "Requirement already satisfied: filelock in /usr/local/lib/python3.12/dist-packages (from huggingface-hub<1.0,>=0.33.5->gradio) (3.19.1)\n",
            "Requirement already satisfied: requests in /usr/local/lib/python3.12/dist-packages (from huggingface-hub<1.0,>=0.33.5->gradio) (2.32.4)\n",
            "Requirement already satisfied: tqdm>=4.42.1 in /usr/local/lib/python3.12/dist-packages (from huggingface-hub<1.0,>=0.33.5->gradio) (4.67.1)\n",
            "Requirement already satisfied: hf-xet<2.0.0,>=1.1.3 in /usr/local/lib/python3.12/dist-packages (from huggingface-hub<1.0,>=0.33.5->gradio) (1.1.8)\n",
            "Requirement already satisfied: python-dateutil>=2.8.2 in /usr/local/lib/python3.12/dist-packages (from pandas<3.0,>=1.0->gradio) (2.9.0.post0)\n",
            "Requirement already satisfied: pytz>=2020.1 in /usr/local/lib/python3.12/dist-packages (from pandas<3.0,>=1.0->gradio) (2025.2)\n",
            "Requirement already satisfied: tzdata>=2022.7 in /usr/local/lib/python3.12/dist-packages (from pandas<3.0,>=1.0->gradio) (2025.2)\n",
            "Requirement already satisfied: annotated-types>=0.6.0 in /usr/local/lib/python3.12/dist-packages (from pydantic<2.12,>=2.0->gradio) (0.7.0)\n",
            "Requirement already satisfied: pydantic-core==2.33.2 in /usr/local/lib/python3.12/dist-packages (from pydantic<2.12,>=2.0->gradio) (2.33.2)\n",
            "Requirement already satisfied: typing-inspection>=0.4.0 in /usr/local/lib/python3.12/dist-packages (from pydantic<2.12,>=2.0->gradio) (0.4.1)\n",
            "Requirement already satisfied: click>=8.0.0 in /usr/local/lib/python3.12/dist-packages (from typer<1.0,>=0.12->gradio) (8.2.1)\n",
            "Requirement already satisfied: shellingham>=1.3.0 in /usr/local/lib/python3.12/dist-packages (from typer<1.0,>=0.12->gradio) (1.5.4)\n",
            "Requirement already satisfied: rich>=10.11.0 in /usr/local/lib/python3.12/dist-packages (from typer<1.0,>=0.12->gradio) (13.9.4)\n",
            "Requirement already satisfied: six>=1.5 in /usr/local/lib/python3.12/dist-packages (from python-dateutil>=2.8.2->pandas<3.0,>=1.0->gradio) (1.17.0)\n",
            "Requirement already satisfied: markdown-it-py>=2.2.0 in /usr/local/lib/python3.12/dist-packages (from rich>=10.11.0->typer<1.0,>=0.12->gradio) (4.0.0)\n",
            "Requirement already satisfied: pygments<3.0.0,>=2.13.0 in /usr/local/lib/python3.12/dist-packages (from rich>=10.11.0->typer<1.0,>=0.12->gradio) (2.19.2)\n",
            "Requirement already satisfied: charset_normalizer<4,>=2 in /usr/local/lib/python3.12/dist-packages (from requests->huggingface-hub<1.0,>=0.33.5->gradio) (3.4.3)\n",
            "Requirement already satisfied: urllib3<3,>=1.21.1 in /usr/local/lib/python3.12/dist-packages (from requests->huggingface-hub<1.0,>=0.33.5->gradio) (2.5.0)\n",
            "Requirement already satisfied: mdurl~=0.1 in /usr/local/lib/python3.12/dist-packages (from markdown-it-py>=2.2.0->rich>=10.11.0->typer<1.0,>=0.12->gradio) (0.1.2)\n"
          ]
        }
      ]
    },
    {
      "cell_type": "code",
      "execution_count": 4,
      "metadata": {
        "id": "u2mnnrk20j4_"
      },
      "outputs": [],
      "source": [
        "import pandas as pd\n",
        "import numpy as np\n",
        "import matplotlib.pyplot as plt\n",
        "import seaborn as sns\n"
      ]
    },
    {
      "cell_type": "code",
      "source": [
        "from sklearn.datasets import fetch_20newsgroups"
      ],
      "metadata": {
        "id": "qtpU5IY52CXt"
      },
      "execution_count": 6,
      "outputs": []
    },
    {
      "cell_type": "code",
      "source": [
        "from sklearn.feature_extraction.text import TfidfVectorizer"
      ],
      "metadata": {
        "id": "a01gS2ms2v6I"
      },
      "execution_count": 9,
      "outputs": []
    },
    {
      "cell_type": "code",
      "source": [
        "from sklearn.cluster import KMeans,AgglomerativeClustering"
      ],
      "metadata": {
        "id": "iBChCiGz3ISg"
      },
      "execution_count": 10,
      "outputs": []
    },
    {
      "cell_type": "code",
      "source": [
        "from sklearn.decomposition import TruncatedSVD"
      ],
      "metadata": {
        "id": "UfrBqsRa31h-"
      },
      "execution_count": 11,
      "outputs": []
    },
    {
      "cell_type": "code",
      "source": [
        "newsgroups=fetch_20newsgroups(subset=\"train\", remove=(\"headers\", \"footers\", \"quotes\"))"
      ],
      "metadata": {
        "id": "UhNu9pHi4S1V"
      },
      "execution_count": 18,
      "outputs": []
    },
    {
      "cell_type": "code",
      "source": [
        "newsgroups.datatexts = newsgroups.data[:1000]\n"
      ],
      "metadata": {
        "id": "SMB2qgr75VHD"
      },
      "execution_count": 28,
      "outputs": []
    },
    {
      "cell_type": "code",
      "source": [
        "vectorizer = TfidfVectorizer(stop_words=\"english\", max_features=3000)\n",
        "\n"
      ],
      "metadata": {
        "id": "7ycq0fRr5oob"
      },
      "execution_count": 22,
      "outputs": []
    },
    {
      "cell_type": "code",
      "source": [
        "texts = newsgroups.data[:1000]\n"
      ],
      "metadata": {
        "id": "fbuRAKnN6TJR"
      },
      "execution_count": 25,
      "outputs": []
    },
    {
      "cell_type": "code",
      "source": [
        "X_tfidf = vectorizer.fit_transform(texts)"
      ],
      "metadata": {
        "id": "xJVMWiTT6AY-"
      },
      "execution_count": 26,
      "outputs": []
    },
    {
      "cell_type": "code",
      "source": [
        "svd = TruncatedSVD(n_components=100, random_state=42)"
      ],
      "metadata": {
        "id": "ueMJGkB-6nF0"
      },
      "execution_count": 27,
      "outputs": []
    },
    {
      "cell_type": "code",
      "source": [
        "X_reduced = svd.fit_transform(X_tfidf)"
      ],
      "metadata": {
        "id": "ATFaSaP_61tT"
      },
      "execution_count": 29,
      "outputs": []
    },
    {
      "cell_type": "code",
      "source": [
        "def get_top_words_per_cluster(X_tfidf, labels, vectorizer, n_words=10):\n",
        "    feature_names = vectorizer.get_feature_names_out()\n",
        "    top_words = {}\n",
        "\n",
        "    for cluster in np.unique(labels):\n",
        "        cluster_indices = np.where(labels == cluster)[0]\n",
        "        if len(cluster_indices) == 0:\n",
        "            continue\n",
        "        cluster_tfidf = X_tfidf[cluster_indices].sum(axis=0).A1  # sum of word importance\n",
        "        top_idx = cluster_tfidf.argsort()[-n_words:][::-1]\n",
        "        top_words[cluster] = [feature_names[i] for i in top_idx]\n",
        "\n",
        "    return top_words"
      ],
      "metadata": {
        "id": "XB0EvIPf7Rlh"
      },
      "execution_count": 30,
      "outputs": []
    },
    {
      "cell_type": "code",
      "source": [
        "def cluster_text(method, n_clusters, user_text):\n",
        "    if method == \"KMeans\":\n",
        "        model = KMeans(n_clusters=n_clusters, random_state=42, n_init=10)\n",
        "        labels = model.fit_predict(X_reduced)\n",
        "    else:\n",
        "        model = AgglomerativeClustering(n_clusters=n_clusters)\n",
        "        labels = model.fit_predict(X_reduced)\n",
        "\n",
        "    df = pd.DataFrame({\"Text\": texts, \"Cluster\": labels})\n",
        "\n",
        "    # Predict cluster for user input\n",
        "    user_vec = vectorizer.transform([user_text])\n",
        "    user_reduced = svd.transform(user_vec)\n",
        "\n",
        "    if method == \"KMeans\":\n",
        "        user_cluster = model.predict(user_reduced)[0]\n",
        "    else:\n",
        "        # Approximate for hierarchical: nearest centroid\n",
        "        centers = pd.DataFrame(X_reduced).groupby(labels).mean().values\n",
        "        sims = centers.dot(user_reduced.T).flatten()\n",
        "        user_cluster = sims.argmax()\n",
        "\n",
        "    # Compute top words\n",
        "    top_words_dict = get_top_words_per_cluster(X_tfidf, labels, vectorizer, n_words=10)\n",
        "    cluster_keywords = top_words_dict.get(user_cluster, [])\n",
        "\n",
        "    return f\"Predicted Cluster: {user_cluster}\\n\\nTop Words: {', '.join(cluster_keywords)}\", df.head(10)"
      ],
      "metadata": {
        "id": "JS3C_3qJ8Ve8"
      },
      "execution_count": 31,
      "outputs": []
    },
    {
      "cell_type": "code",
      "source": [
        "def plot_clusters(n_clusters):\n",
        "    model = KMeans(n_clusters=n_clusters, random_state=42, n_init=10)\n",
        "    labels = model.fit_predict(X_reduced)\n",
        "\n",
        "    # Reduce to 2D for visualization\n",
        "    svd_2d = TruncatedSVD(n_components=2, random_state=42)\n",
        "    reduced_2d = svd_2d.fit_transform(X_tfidf)\n",
        "\n",
        "    plt.figure(figsize=(6, 4))\n",
        "    sns.scatterplot(x=reduced_2d[:, 0], y=reduced_2d[:, 1], hue=labels, palette=\"tab10\", s=30)\n",
        "    plt.title(f\"KMeans Clusters (n={n_clusters})\")\n",
        "    plt.xlabel(\"Topic Dimension 1\")\n",
        "    plt.ylabel(\"Topic Dimension 2\")\n",
        "\n",
        "    # Return numpy array instead of buffer\n",
        "    plt.tight_layout()\n",
        "    fig = plt.gcf()\n",
        "    fig.canvas.draw()\n",
        "    img = np.array(fig.canvas.renderer.buffer_rgba())\n",
        "    plt.close(fig)\n",
        "    return img"
      ],
      "metadata": {
        "id": "5z2sCtQx9MDC"
      },
      "execution_count": 32,
      "outputs": []
    },
    {
      "cell_type": "code",
      "source": [
        "import gradio as gr"
      ],
      "metadata": {
        "id": "iGcOK-Gq-fvO"
      },
      "execution_count": 36,
      "outputs": []
    },
    {
      "cell_type": "code",
      "source": [
        "with gr.Blocks() as demo:\n",
        "    gr.Markdown(\"## 📰 News Article Clustering (20 Newsgroups)\")\n",
        "\n",
        "    with gr.Row():\n",
        "        method = gr.Dropdown([\"KMeans\", \"Hierarchical\"], label=\"Clustering Method\", value=\"KMeans\")\n",
        "        n_clusters = gr.Slider(2, 15, value=5, step=1, label=\"Number of Clusters\")\n",
        "\n",
        "    user_text = gr.Textbox(label=\"Enter a News Article or Text\", lines=5, value=\"NASA launched a new space mission today.\")\n",
        "    run_btn = gr.Button(\"Find Cluster\")\n",
        "\n",
        "    result = gr.Textbox(label=\"Cluster Result\")\n",
        "    table_output = gr.Dataframe(label=\"Sample Clustered Data\")\n",
        "\n",
        "    run_btn.click(cluster_text, inputs=[method, n_clusters, user_text], outputs=[result, table_output])\n",
        "\n",
        "    gr.Markdown(\"### 🔍 Visualize Clusters (KMeans only)\")\n",
        "    viz_btn = gr.Button(\"Show Cluster Plot\")\n",
        "    viz_output = gr.Image(type=\"numpy\")\n",
        "    viz_btn.click(plot_clusters, inputs=[n_clusters], outputs=viz_output)"
      ],
      "metadata": {
        "id": "MiyAuyhm-SWl"
      },
      "execution_count": 37,
      "outputs": []
    },
    {
      "cell_type": "code",
      "source": [
        "demo.launch()"
      ],
      "metadata": {
        "colab": {
          "base_uri": "https://localhost:8080/",
          "height": 648
        },
        "id": "M-N_RGWy-p1S",
        "outputId": "bf533505-1908-4840-f22d-950550fe3613"
      },
      "execution_count": 40,
      "outputs": [
        {
          "output_type": "stream",
          "name": "stdout",
          "text": [
            "It looks like you are running Gradio on a hosted Jupyter notebook, which requires `share=True`. Automatically setting `share=True` (you can turn this off by setting `share=False` in `launch()` explicitly).\n",
            "\n",
            "Colab notebook detected. To show errors in colab notebook, set debug=True in launch()\n",
            "* Running on public URL: https://a40485a6c14c919587.gradio.live\n",
            "\n",
            "This share link expires in 1 week. For free permanent hosting and GPU upgrades, run `gradio deploy` from the terminal in the working directory to deploy to Hugging Face Spaces (https://huggingface.co/spaces)\n"
          ]
        },
        {
          "output_type": "display_data",
          "data": {
            "text/plain": [
              "<IPython.core.display.HTML object>"
            ],
            "text/html": [
              "<div><iframe src=\"https://a40485a6c14c919587.gradio.live\" width=\"100%\" height=\"500\" allow=\"autoplay; camera; microphone; clipboard-read; clipboard-write;\" frameborder=\"0\" allowfullscreen></iframe></div>"
            ]
          },
          "metadata": {}
        },
        {
          "output_type": "execute_result",
          "data": {
            "text/plain": []
          },
          "metadata": {},
          "execution_count": 40
        }
      ]
    }
  ]
}