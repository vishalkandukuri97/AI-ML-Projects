{
  "nbformat": 4,
  "nbformat_minor": 0,
  "metadata": {
    "colab": {
      "provenance": [],
      "authorship_tag": "ABX9TyPmzBQm3RphnZwTuq2xmTZI",
      "include_colab_link": true
    },
    "kernelspec": {
      "name": "python3",
      "display_name": "Python 3"
    },
    "language_info": {
      "name": "python"
    }
  },
  "cells": [
    {
      "cell_type": "markdown",
      "metadata": {
        "id": "view-in-github",
        "colab_type": "text"
      },
      "source": [
        "<a href=\"https://colab.research.google.com/github/vishalkandukuri97/AI-ML-Projects/blob/main/Graph_Data.ipynb\" target=\"_parent\"><img src=\"https://colab.research.google.com/assets/colab-badge.svg\" alt=\"Open In Colab\"/></a>"
      ]
    },
    {
      "cell_type": "code",
      "execution_count": 1,
      "metadata": {
        "id": "RbsA3lZJFWQu"
      },
      "outputs": [],
      "source": [
        "import networkx as nx\n",
        "import matplotlib.pyplot as plt\n",
        "\n",
        "# Create directed graph\n",
        "G = nx.DiGraph()"
      ]
    },
    {
      "cell_type": "code",
      "source": [
        "# Function to simulate CREATE (Cypher-like)\n",
        "def CREATE(node1, relation=None, node2=None):\n",
        "    if relation and node2:\n",
        "        G.add_node(node1)\n",
        "        G.add_node(node2)\n",
        "        G.add_edge(node1, node2, relation=relation)\n",
        "    else:\n",
        "        G.add_node(node1)\n"
      ],
      "metadata": {
        "id": "wceH7_AtGHo2"
      },
      "execution_count": 2,
      "outputs": []
    },
    {
      "cell_type": "code",
      "source": [
        "# Function to simulate MATCH (like Cypher)\n",
        "def MATCH(node=None, relation=None, target=None):\n",
        "    results = []\n",
        "    for u, v, d in G.edges(data=True):\n",
        "        if (not node or node == u) and \\\n",
        "           (not relation or relation == d.get(\"relation\")) and \\\n",
        "           (not target or target == v):\n",
        "            results.append((u, d.get(\"relation\"), v))\n",
        "    return results"
      ],
      "metadata": {
        "id": "R0p0-NSaHCJ2"
      },
      "execution_count": 3,
      "outputs": []
    },
    {
      "cell_type": "code",
      "source": [
        "def DELETE(node=None, relation=None, target=None):\n",
        "    if node and not relation:\n",
        "        if node in G:\n",
        "            G.remove_node(node)\n",
        "    elif node and relation and target:\n",
        "        if G.has_edge(node, target):\n",
        "            G.remove_edge(node, target)"
      ],
      "metadata": {
        "id": "oHuu-vvJHitg"
      },
      "execution_count": 4,
      "outputs": []
    },
    {
      "cell_type": "code",
      "source": [
        "# Create initial graph (like CREATE in Cypher)\n",
        "CREATE(\"Alice\")\n",
        "CREATE(\"Bob\")\n",
        "CREATE(\"LLM\")\n",
        "CREATE(\"Alice\", \"KNOWS\", \"Bob\")\n",
        "CREATE(\"Alice\", \"USES\", \"LLM\")"
      ],
      "metadata": {
        "id": "jUcF9vy0H_Sp"
      },
      "execution_count": 5,
      "outputs": []
    },
    {
      "cell_type": "code",
      "source": [
        "print(\" Nodes:\", list(G.nodes(data=True)))\n",
        "print(\" Relationships:\", list(G.edges(data=True)))"
      ],
      "metadata": {
        "colab": {
          "base_uri": "https://localhost:8080/"
        },
        "id": "Q05YRBNlIcZ7",
        "outputId": "524976d2-a990-4d65-ddf3-b1caf84cea0f"
      },
      "execution_count": 6,
      "outputs": [
        {
          "output_type": "stream",
          "name": "stdout",
          "text": [
            " Nodes: [('Alice', {}), ('Bob', {}), ('LLM', {})]\n",
            " Relationships: [('Alice', 'Bob', {'relation': 'KNOWS'}), ('Alice', 'LLM', {'relation': 'USES'})]\n"
          ]
        }
      ]
    }
  ]
}