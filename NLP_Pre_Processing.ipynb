{
  "nbformat": 4,
  "nbformat_minor": 0,
  "metadata": {
    "colab": {
      "provenance": [],
      "authorship_tag": "ABX9TyPdZyaxLH8IOCHHBJFc/Y9e",
      "include_colab_link": true
    },
    "kernelspec": {
      "name": "python3",
      "display_name": "Python 3"
    },
    "language_info": {
      "name": "python"
    }
  },
  "cells": [
    {
      "cell_type": "markdown",
      "metadata": {
        "id": "view-in-github",
        "colab_type": "text"
      },
      "source": [
        "<a href=\"https://colab.research.google.com/github/vishalkandukuri97/AI-ML-Projects/blob/main/NLP_Pre_Processing.ipynb\" target=\"_parent\"><img src=\"https://colab.research.google.com/assets/colab-badge.svg\" alt=\"Open In Colab\"/></a>"
      ]
    },
    {
      "cell_type": "code",
      "execution_count": 3,
      "metadata": {
        "colab": {
          "base_uri": "https://localhost:8080/"
        },
        "id": "532dhzPeHn36",
        "outputId": "d0bf54a9-f520-4b6f-d4c4-a705d8740d19"
      },
      "outputs": [
        {
          "output_type": "stream",
          "name": "stdout",
          "text": [
            "Requirement already satisfied: nltk in /usr/local/lib/python3.12/dist-packages (3.9.1)\n",
            "Requirement already satisfied: scikit-learn in /usr/local/lib/python3.12/dist-packages (1.6.1)\n",
            "Requirement already satisfied: click in /usr/local/lib/python3.12/dist-packages (from nltk) (8.2.1)\n",
            "Requirement already satisfied: joblib in /usr/local/lib/python3.12/dist-packages (from nltk) (1.5.2)\n",
            "Requirement already satisfied: regex>=2021.8.3 in /usr/local/lib/python3.12/dist-packages (from nltk) (2024.11.6)\n",
            "Requirement already satisfied: tqdm in /usr/local/lib/python3.12/dist-packages (from nltk) (4.67.1)\n",
            "Requirement already satisfied: numpy>=1.19.5 in /usr/local/lib/python3.12/dist-packages (from scikit-learn) (2.0.2)\n",
            "Requirement already satisfied: scipy>=1.6.0 in /usr/local/lib/python3.12/dist-packages (from scikit-learn) (1.16.1)\n",
            "Requirement already satisfied: threadpoolctl>=3.1.0 in /usr/local/lib/python3.12/dist-packages (from scikit-learn) (3.6.0)\n"
          ]
        }
      ],
      "source": [
        "!pip install nltk scikit-learn"
      ]
    },
    {
      "cell_type": "code",
      "source": [
        "import nltk"
      ],
      "metadata": {
        "id": "tR94e4VkJGnU"
      },
      "execution_count": 4,
      "outputs": []
    },
    {
      "cell_type": "code",
      "source": [
        "import re"
      ],
      "metadata": {
        "id": "Iaw_fAnGJOkn"
      },
      "execution_count": 5,
      "outputs": []
    },
    {
      "cell_type": "code",
      "source": [
        "import string"
      ],
      "metadata": {
        "id": "dN8mmVpaJR0Q"
      },
      "execution_count": 6,
      "outputs": []
    },
    {
      "cell_type": "code",
      "source": [
        "from nltk.corpus import stopwords"
      ],
      "metadata": {
        "id": "TvS6sikzJUs1"
      },
      "execution_count": 7,
      "outputs": []
    },
    {
      "cell_type": "code",
      "source": [
        "from nltk.stem import PorterStemmer, WordNetLemmatizer\n",
        "from nltk.tokenize import word_tokenize, sent_tokenize\n",
        "from sklearn.feature_extraction.text import CountVectorizer, TfidfVectorizer"
      ],
      "metadata": {
        "id": "Q4TjJL2_J_H3"
      },
      "execution_count": 8,
      "outputs": []
    },
    {
      "cell_type": "code",
      "source": [
        "nltk.download('punkt')\n",
        "nltk.download('punkt_tab')"
      ],
      "metadata": {
        "colab": {
          "base_uri": "https://localhost:8080/"
        },
        "id": "gn4KJYeWKBFQ",
        "outputId": "9accc0ae-a57d-4c22-9529-13392149dc4c"
      },
      "execution_count": 9,
      "outputs": [
        {
          "output_type": "stream",
          "name": "stderr",
          "text": [
            "[nltk_data] Downloading package punkt to /root/nltk_data...\n",
            "[nltk_data]   Unzipping tokenizers/punkt.zip.\n",
            "[nltk_data] Downloading package punkt_tab to /root/nltk_data...\n",
            "[nltk_data]   Unzipping tokenizers/punkt_tab.zip.\n"
          ]
        },
        {
          "output_type": "execute_result",
          "data": {
            "text/plain": [
              "True"
            ]
          },
          "metadata": {},
          "execution_count": 9
        }
      ]
    },
    {
      "cell_type": "code",
      "source": [
        "nltk.download('stopwords')\n",
        "nltk.download('wordnet')\n",
        "text = \"NLP is amazing! It helps computers understand language. Don't you love it?\""
      ],
      "metadata": {
        "colab": {
          "base_uri": "https://localhost:8080/"
        },
        "id": "zWYKGPlrKqwP",
        "outputId": "f221d40d-1f59-4b01-ee90-05d9c74bb56c"
      },
      "execution_count": 10,
      "outputs": [
        {
          "output_type": "stream",
          "name": "stderr",
          "text": [
            "[nltk_data] Downloading package stopwords to /root/nltk_data...\n",
            "[nltk_data]   Unzipping corpora/stopwords.zip.\n",
            "[nltk_data] Downloading package wordnet to /root/nltk_data...\n"
          ]
        }
      ]
    },
    {
      "cell_type": "code",
      "source": [
        "def preprocess_text(text):\n",
        "    # Lowercase\n",
        "    text = text.lower()\n",
        "    # Remove numbers, punctuation, and special characters\n",
        "    text = re.sub(r'[^a-z\\s]', '', text)\n",
        "    # Remove extra spaces\n",
        "    text = re.sub(r'\\s+', ' ', text).strip()\n",
        "    return text\n"
      ],
      "metadata": {
        "id": "ViMnnxwNLFw8"
      },
      "execution_count": 11,
      "outputs": []
    },
    {
      "cell_type": "code",
      "source": [
        "clean_text = preprocess_text(text)\n",
        "print(\"Preprocessed Text:\", clean_text)"
      ],
      "metadata": {
        "colab": {
          "base_uri": "https://localhost:8080/"
        },
        "id": "Jqrx9NFbLJ2K",
        "outputId": "5b534f22-93fb-4120-8c8e-ee03a8f32cae"
      },
      "execution_count": 12,
      "outputs": [
        {
          "output_type": "stream",
          "name": "stdout",
          "text": [
            "Preprocessed Text: nlp is amazing it helps computers understand language dont you love it\n"
          ]
        }
      ]
    },
    {
      "cell_type": "code",
      "source": [
        "word_tokens = word_tokenize(clean_text)\n",
        "print(\"Word Tokens:\", word_tokens)"
      ],
      "metadata": {
        "colab": {
          "base_uri": "https://localhost:8080/"
        },
        "id": "QU_-TyG6MDxM",
        "outputId": "80e4a620-5bfa-45d5-fb50-b87e7568a070"
      },
      "execution_count": 13,
      "outputs": [
        {
          "output_type": "stream",
          "name": "stdout",
          "text": [
            "Word Tokens: ['nlp', 'is', 'amazing', 'it', 'helps', 'computers', 'understand', 'language', 'dont', 'you', 'love', 'it']\n"
          ]
        }
      ]
    },
    {
      "cell_type": "code",
      "source": [
        "sent_tokens = sent_tokenize(text)\n",
        "print(\"Sentence Tokens:\", sent_tokens)"
      ],
      "metadata": {
        "colab": {
          "base_uri": "https://localhost:8080/"
        },
        "id": "2k5RYgUtMIDw",
        "outputId": "8251ca99-0d68-4236-9d6a-626a0caf3bdd"
      },
      "execution_count": 14,
      "outputs": [
        {
          "output_type": "stream",
          "name": "stdout",
          "text": [
            "Sentence Tokens: ['NLP is amazing!', 'It helps computers understand language.', \"Don't you love it?\"]\n"
          ]
        }
      ]
    },
    {
      "cell_type": "code",
      "source": [
        "stemmer = PorterStemmer()\n",
        "lemmatizer = WordNetLemmatizer()\n",
        "\n",
        "stems = [stemmer.stem(word) for word in word_tokens]\n",
        "lemmas = [lemmatizer.lemmatize(word) for word in word_tokens]\n",
        "\n",
        "print(\"Stemming:\", stems)\n",
        "print(\"Lemmatization:\", lemmas)\n"
      ],
      "metadata": {
        "colab": {
          "base_uri": "https://localhost:8080/"
        },
        "id": "H4s7ld6tMMPl",
        "outputId": "ac437e7e-4561-4b58-99fb-6ee84fcf84d8"
      },
      "execution_count": 15,
      "outputs": [
        {
          "output_type": "stream",
          "name": "stdout",
          "text": [
            "Stemming: ['nlp', 'is', 'amaz', 'it', 'help', 'comput', 'understand', 'languag', 'dont', 'you', 'love', 'it']\n",
            "Lemmatization: ['nlp', 'is', 'amazing', 'it', 'help', 'computer', 'understand', 'language', 'dont', 'you', 'love', 'it']\n"
          ]
        }
      ]
    },
    {
      "cell_type": "code",
      "source": [
        "stop_words = set(stopwords.words(\"english\"))\n",
        "filtered_tokens = [word for word in word_tokens if word not in stop_words]\n",
        "print(\"After Stop Word Removal:\", filtered_tokens)"
      ],
      "metadata": {
        "colab": {
          "base_uri": "https://localhost:8080/"
        },
        "id": "HR8DsvgAMwmp",
        "outputId": "77a22ce0-cfe8-4a72-aab5-fb1725049eea"
      },
      "execution_count": 16,
      "outputs": [
        {
          "output_type": "stream",
          "name": "stdout",
          "text": [
            "After Stop Word Removal: ['nlp', 'amazing', 'helps', 'computers', 'understand', 'language', 'dont', 'love']\n"
          ]
        }
      ]
    },
    {
      "cell_type": "code",
      "source": [
        "docs = [\n",
        "    \"The cat is sitting on the mat.\",\n",
        "    \"NLP helps computers understand human language.\",\n",
        "    \"The dog is playing with the cat.\"\n",
        "]"
      ],
      "metadata": {
        "id": "9tSs92XSNKCx"
      },
      "execution_count": 17,
      "outputs": []
    },
    {
      "cell_type": "code",
      "source": [
        "vectorizer = CountVectorizer()\n",
        "bow = vectorizer.fit_transform(docs)\n",
        "print(\"\\nBag of Words Vocabulary:\", vectorizer.get_feature_names_out())\n",
        "print(\"BoW Matrix:\\n\", bow.toarray())\n"
      ],
      "metadata": {
        "colab": {
          "base_uri": "https://localhost:8080/"
        },
        "id": "K7905yvcNiRa",
        "outputId": "e462bbdd-2be5-4acc-b1a7-b9197ae0a693"
      },
      "execution_count": 18,
      "outputs": [
        {
          "output_type": "stream",
          "name": "stdout",
          "text": [
            "\n",
            "Bag of Words Vocabulary: ['cat' 'computers' 'dog' 'helps' 'human' 'is' 'language' 'mat' 'nlp' 'on'\n",
            " 'playing' 'sitting' 'the' 'understand' 'with']\n",
            "BoW Matrix:\n",
            " [[1 0 0 0 0 1 0 1 0 1 0 1 2 0 0]\n",
            " [0 1 0 1 1 0 1 0 1 0 0 0 0 1 0]\n",
            " [1 0 1 0 0 1 0 0 0 0 1 0 2 0 1]]\n"
          ]
        }
      ]
    },
    {
      "cell_type": "code",
      "source": [
        "tfidf = TfidfVectorizer()\n",
        "tfidf_matrix = tfidf.fit_transform(docs)\n",
        "print(\"\\nTF-IDF Vocabulary:\", tfidf.get_feature_names_out())\n",
        "print(\"TF-IDF Matrix:\\n\", tfidf_matrix.toarray())"
      ],
      "metadata": {
        "colab": {
          "base_uri": "https://localhost:8080/"
        },
        "id": "cG4FUbh1N7Iz",
        "outputId": "47f18e6e-b1a6-48c2-ded6-0c4702c5cefd"
      },
      "execution_count": 19,
      "outputs": [
        {
          "output_type": "stream",
          "name": "stdout",
          "text": [
            "\n",
            "TF-IDF Vocabulary: ['cat' 'computers' 'dog' 'helps' 'human' 'is' 'language' 'mat' 'nlp' 'on'\n",
            " 'playing' 'sitting' 'the' 'understand' 'with']\n",
            "TF-IDF Matrix:\n",
            " [[0.29898437 0.         0.         0.         0.         0.29898437\n",
            "  0.         0.39312851 0.         0.39312851 0.         0.39312851\n",
            "  0.59796874 0.         0.        ]\n",
            " [0.         0.40824829 0.         0.40824829 0.40824829 0.\n",
            "  0.40824829 0.         0.40824829 0.         0.         0.\n",
            "  0.         0.40824829 0.        ]\n",
            " [0.29898437 0.         0.39312851 0.         0.         0.29898437\n",
            "  0.         0.         0.         0.         0.39312851 0.\n",
            "  0.59796874 0.         0.39312851]]\n"
          ]
        }
      ]
    }
  ]
}