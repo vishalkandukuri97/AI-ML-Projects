{
  "nbformat": 4,
  "nbformat_minor": 0,
  "metadata": {
    "colab": {
      "provenance": [],
      "authorship_tag": "ABX9TyO2asiwznc9gBx/tQwdNaZX",
      "include_colab_link": true
    },
    "kernelspec": {
      "name": "python3",
      "display_name": "Python 3"
    },
    "language_info": {
      "name": "python"
    }
  },
  "cells": [
    {
      "cell_type": "markdown",
      "metadata": {
        "id": "view-in-github",
        "colab_type": "text"
      },
      "source": [
        "<a href=\"https://colab.research.google.com/github/vishalkandukuri97/AI-ML-Projects/blob/main/Diabetes_Prediction_Project.ipynb\" target=\"_parent\"><img src=\"https://colab.research.google.com/assets/colab-badge.svg\" alt=\"Open In Colab\"/></a>"
      ]
    },
    {
      "cell_type": "code",
      "execution_count": 1,
      "metadata": {
        "id": "arGZ_XT2kDxF"
      },
      "outputs": [],
      "source": [
        "!pip install gradio -q\n",
        "import gradio as gr\n"
      ]
    },
    {
      "cell_type": "code",
      "source": [
        "from sklearn.datasets import load_diabetes"
      ],
      "metadata": {
        "id": "1ptd-rLVkoDk"
      },
      "execution_count": 2,
      "outputs": []
    },
    {
      "cell_type": "code",
      "source": [
        "from sklearn.tree import DecisionTreeRegressor\n"
      ],
      "metadata": {
        "id": "Za7uh6RGk1OC"
      },
      "execution_count": 3,
      "outputs": []
    },
    {
      "cell_type": "code",
      "source": [
        "from sklearn.model_selection import train_test_split"
      ],
      "metadata": {
        "id": "9PFQFDWlk6Qg"
      },
      "execution_count": 4,
      "outputs": []
    },
    {
      "cell_type": "code",
      "source": [
        "diabetes = load_diabetes()"
      ],
      "metadata": {
        "id": "-af9kaIXlUwF"
      },
      "execution_count": 5,
      "outputs": []
    },
    {
      "cell_type": "code",
      "source": [
        "X, y = diabetes.data, diabetes.target"
      ],
      "metadata": {
        "id": "0cM_8euUlmiu"
      },
      "execution_count": 6,
      "outputs": []
    },
    {
      "cell_type": "code",
      "source": [
        "clf = DecisionTreeRegressor(max_depth=5, random_state=42).fit(X, y)"
      ],
      "metadata": {
        "id": "zw9E6gGCmQao"
      },
      "execution_count": 7,
      "outputs": []
    },
    {
      "cell_type": "code",
      "source": [
        "def predict(bp, bmi, age):\n",
        "    data = [[0]*3 + [bp, bmi, 0, 0, 0, 0, age]]  # pick features manually\n",
        "    pred = clf.predict(data)[0]\n",
        "    return f\"Predicted Diabetes Risk Score: {pred:.2f}\""
      ],
      "metadata": {
        "id": "B0gr9iDxmoXp"
      },
      "execution_count": 8,
      "outputs": []
    },
    {
      "cell_type": "code",
      "source": [
        "demo = gr.Interface(\n",
        "    fn=predict,\n",
        "    inputs=[gr.Number(label=\"Blood Pressure\"), gr.Number(label=\"BMI\"), gr.Number(label=\"Age\")],\n",
        "    outputs=\"text\",\n",
        "    title=\"Diabetes Risk Prediction (Decision Tree)\",\n",
        "    description=\"Predict diabetes progression risk score.\"\n",
        ")"
      ],
      "metadata": {
        "id": "7wALfWGwnVyf"
      },
      "execution_count": 9,
      "outputs": []
    },
    {
      "cell_type": "code",
      "source": [
        "demo.launch()"
      ],
      "metadata": {
        "colab": {
          "base_uri": "https://localhost:8080/",
          "height": 648
        },
        "id": "yN0dBTJHngWd",
        "outputId": "561dcc4f-2791-4fad-9c39-7b5c6d4a6667"
      },
      "execution_count": 10,
      "outputs": [
        {
          "output_type": "stream",
          "name": "stdout",
          "text": [
            "It looks like you are running Gradio on a hosted Jupyter notebook, which requires `share=True`. Automatically setting `share=True` (you can turn this off by setting `share=False` in `launch()` explicitly).\n",
            "\n",
            "Colab notebook detected. To show errors in colab notebook, set debug=True in launch()\n",
            "* Running on public URL: https://ca3cfa07a3ec6029ed.gradio.live\n",
            "\n",
            "This share link expires in 1 week. For free permanent hosting and GPU upgrades, run `gradio deploy` from the terminal in the working directory to deploy to Hugging Face Spaces (https://huggingface.co/spaces)\n"
          ]
        },
        {
          "output_type": "display_data",
          "data": {
            "text/plain": [
              "<IPython.core.display.HTML object>"
            ],
            "text/html": [
              "<div><iframe src=\"https://ca3cfa07a3ec6029ed.gradio.live\" width=\"100%\" height=\"500\" allow=\"autoplay; camera; microphone; clipboard-read; clipboard-write;\" frameborder=\"0\" allowfullscreen></iframe></div>"
            ]
          },
          "metadata": {}
        },
        {
          "output_type": "execute_result",
          "data": {
            "text/plain": []
          },
          "metadata": {},
          "execution_count": 10
        }
      ]
    },
    {
      "cell_type": "code",
      "source": [
        "from sklearn.model_selection import train_test_split\n",
        "from sklearn.tree import DecisionTreeRegressor\n",
        "from sklearn.ensemble import BaggingRegressor, RandomForestRegressor, GradientBoostingRegressor, AdaBoostRegressor\n",
        "import xgboost as xgb"
      ],
      "metadata": {
        "id": "wKzSVq2goVI6"
      },
      "execution_count": 11,
      "outputs": []
    },
    {
      "cell_type": "code",
      "source": [
        "# Train-test split\n",
        "X_train, X_test, y_train, y_test = train_test_split(X, y, test_size=0.2, random_state=42)"
      ],
      "metadata": {
        "id": "B4QRQotnouAy"
      },
      "execution_count": 12,
      "outputs": []
    },
    {
      "cell_type": "code",
      "source": [
        "# Models\n",
        "models = {\n",
        "    \"Decision Tree\": DecisionTreeRegressor(max_depth=5, random_state=42),\n",
        "    \"Bagging\": BaggingRegressor(DecisionTreeRegressor(), n_estimators=50, random_state=42),\n",
        "    \"Random Forest\": RandomForestRegressor(n_estimators=100, random_state=42),\n",
        "    \"Gradient Boosting\": GradientBoostingRegressor(n_estimators=100, learning_rate=0.1, random_state=42),\n",
        "    \"AdaBoost\": AdaBoostRegressor(DecisionTreeRegressor(max_depth=3), n_estimators=100, learning_rate=0.1, random_state=42),\n",
        "    \"XGBoost\": xgb.XGBRegressor(n_estimators=100, learning_rate=0.1, max_depth=3, random_state=42, verbosity=0)\n",
        "}"
      ],
      "metadata": {
        "id": "pf9GveMnpBnl"
      },
      "execution_count": 13,
      "outputs": []
    },
    {
      "cell_type": "code",
      "source": [
        "# Fit all models\n",
        "for name, model in models.items():\n",
        "    model.fit(X_train, y_train)"
      ],
      "metadata": {
        "id": "6zOAmmHMqakM"
      },
      "execution_count": 14,
      "outputs": []
    },
    {
      "cell_type": "code",
      "source": [
        "# Risk interpretation function\n",
        "def interpret_score(score):\n",
        "    if score < 100:\n",
        "        return \"Low Risk\"\n",
        "    elif 100 <= score < 180:\n",
        "        return \"Moderate Risk \"\n",
        "    else:\n",
        "        return \"High Risk \""
      ],
      "metadata": {
        "id": "sIgFhADsqvWo"
      },
      "execution_count": 15,
      "outputs": []
    },
    {
      "cell_type": "code",
      "source": [
        "def predict(bp, bmi, age, model_name):\n",
        "    # pick features manually (bp, bmi, age)\n",
        "    data = [[0]*3 + [bp, bmi, 0, 0, 0, 0, age]]\n",
        "    pred = models[model_name].predict(data)[0]\n",
        "    category = interpret_score(pred)\n",
        "    return f\"{model_name} Prediction → Score: {pred:.2f} | Risk Level: {category}\""
      ],
      "metadata": {
        "id": "dCGBc5D2ruM3"
      },
      "execution_count": 16,
      "outputs": []
    },
    {
      "cell_type": "code",
      "source": [
        "demo = gr.Interface(\n",
        "    fn=predict,\n",
        "    inputs=[\n",
        "        gr.Number(label=\"Blood Pressure\"),\n",
        "        gr.Number(label=\"BMI\"),\n",
        "        gr.Number(label=\"Age\"),\n",
        "        gr.Radio(list(models.keys()), label=\"Choose Model\")\n",
        "    ],\n",
        "    outputs=\"text\",\n",
        "    title=\"Diabetes Risk Prediction (Ensembling & Boosting)\",\n",
        "    description=\"Compare Decision Tree, Bagging, Random Forest, Gradient Boosting, AdaBoost, and XGBoost with interpretable risk levels.\"\n",
        ")"
      ],
      "metadata": {
        "id": "6VH-QXoPsUYv"
      },
      "execution_count": 17,
      "outputs": []
    },
    {
      "cell_type": "code",
      "source": [
        "demo.launch()"
      ],
      "metadata": {
        "colab": {
          "base_uri": "https://localhost:8080/",
          "height": 648
        },
        "id": "MyDLOR49siJY",
        "outputId": "a4fcb20b-53c1-4b85-f2d4-bb6a3ddca13f"
      },
      "execution_count": 18,
      "outputs": [
        {
          "output_type": "stream",
          "name": "stdout",
          "text": [
            "It looks like you are running Gradio on a hosted Jupyter notebook, which requires `share=True`. Automatically setting `share=True` (you can turn this off by setting `share=False` in `launch()` explicitly).\n",
            "\n",
            "Colab notebook detected. To show errors in colab notebook, set debug=True in launch()\n",
            "* Running on public URL: https://4cd69a2378e3b4a238.gradio.live\n",
            "\n",
            "This share link expires in 1 week. For free permanent hosting and GPU upgrades, run `gradio deploy` from the terminal in the working directory to deploy to Hugging Face Spaces (https://huggingface.co/spaces)\n"
          ]
        },
        {
          "output_type": "display_data",
          "data": {
            "text/plain": [
              "<IPython.core.display.HTML object>"
            ],
            "text/html": [
              "<div><iframe src=\"https://4cd69a2378e3b4a238.gradio.live\" width=\"100%\" height=\"500\" allow=\"autoplay; camera; microphone; clipboard-read; clipboard-write;\" frameborder=\"0\" allowfullscreen></iframe></div>"
            ]
          },
          "metadata": {}
        },
        {
          "output_type": "execute_result",
          "data": {
            "text/plain": []
          },
          "metadata": {},
          "execution_count": 18
        }
      ]
    }
  ]
}