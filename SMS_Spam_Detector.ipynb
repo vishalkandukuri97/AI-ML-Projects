{
  "nbformat": 4,
  "nbformat_minor": 0,
  "metadata": {
    "colab": {
      "provenance": [],
      "authorship_tag": "ABX9TyMJeF2SGQqMLG8Vi6ubYCOP",
      "include_colab_link": true
    },
    "kernelspec": {
      "name": "python3",
      "display_name": "Python 3"
    },
    "language_info": {
      "name": "python"
    }
  },
  "cells": [
    {
      "cell_type": "markdown",
      "metadata": {
        "id": "view-in-github",
        "colab_type": "text"
      },
      "source": [
        "<a href=\"https://colab.research.google.com/github/vishalkandukuri97/AI-ML-Projects/blob/main/SMS_Spam_Detector.ipynb\" target=\"_parent\"><img src=\"https://colab.research.google.com/assets/colab-badge.svg\" alt=\"Open In Colab\"/></a>"
      ]
    },
    {
      "cell_type": "code",
      "execution_count": 5,
      "metadata": {
        "id": "oUVhpL-PO9KL"
      },
      "outputs": [],
      "source": [
        "# !pip install pandas numpy scikit-learn gradio\n",
        "\n"
      ]
    },
    {
      "cell_type": "code",
      "source": [
        "import pandas as pd\n",
        "import numpy as np\n",
        "from sklearn.feature_extraction.text import CountVectorizer\n",
        "from sklearn.model_selection import train_test_split\n",
        "from sklearn.linear_model import LogisticRegression\n",
        "from sklearn.metrics import accuracy_score\n",
        "import gradio as gr\n"
      ],
      "metadata": {
        "id": "kylXXe-2PTJ6"
      },
      "execution_count": 6,
      "outputs": []
    },
    {
      "cell_type": "code",
      "source": [
        "df = pd.read_csv(\"/content/archive.zip\", encoding=\"latin1\", engine=\"python\", on_bad_lines=\"skip\")\n",
        "\n",
        "df = df[[\"v1\", \"v2\"]].rename(columns={\"v1\": \"label\", \"v2\": \"text\"})\n"
      ],
      "metadata": {
        "id": "50gylWMrPWx-"
      },
      "execution_count": 8,
      "outputs": []
    },
    {
      "cell_type": "code",
      "source": [
        "def to01(v):\n",
        "    s = str(v).strip().lower()\n",
        "    if s == \"spam\": return 1\n",
        "    if s == \"ham\":  return 0\n",
        "\n",
        "    if s in {\"1\", \"true\", \"yes\"}: return 1\n",
        "    if s in {\"0\", \"false\", \"no\"}: return 0\n",
        "    return 1 if s else 0\n"
      ],
      "metadata": {
        "id": "n9wSjvxsQCyQ"
      },
      "execution_count": 9,
      "outputs": []
    },
    {
      "cell_type": "code",
      "source": [
        "df[\"label\"] = df[\"label\"].apply(to01).astype(int)\n",
        "\n",
        "\n",
        "df[\"text\"] = df[\"text\"].astype(str).fillna(\"\")\n",
        "\n",
        "vectorizer = CountVectorizer(ngram_range=(1, 2), min_df=2)\n",
        "X = vectorizer.fit_transform(df[\"text\"])\n",
        "y = df[\"label\"].values\n",
        "\n",
        "X_train, X_test, y_train, y_test = train_test_split(\n",
        "    X, y, test_size=0.30, random_state=0, stratify=y\n",
        ")\n",
        "\n",
        "model = LogisticRegression(max_iter=1000)\n",
        "model.fit(X_train, y_train)\n",
        "\n",
        "y_pred = model.predict(X_test)\n",
        "accuracy = accuracy_score(y_test, y_pred)\n",
        "print(f\"Model Accuracy: {accuracy:.2f}\")\n",
        "def predict(text):\n",
        "\n",
        "    input_data = vectorizer.transform([text])\n",
        "\n",
        "    prediction = model.predict(input_data)\n",
        "\n",
        "    return \"Spam\" if prediction[0] == 1 else \"Not Spam\"\n",
        "\n",
        "interface = gr.Interface(\n",
        "    fn=predict,\n",
        "    inputs=gr.Textbox(lines=2, placeholder=\"Enter SMS text here...\"),\n",
        "    outputs=\"text\",\n",
        "    title=\"SMS Spam Detector\",\n",
        "    description=\"Enter an SMS message to classify it as Spam or Not Spam.\"\n",
        ")\n",
        "\n",
        "if __name__ == \"__main__\":\n",
        "    interface.launch(share=True)\n"
      ],
      "metadata": {
        "colab": {
          "base_uri": "https://localhost:8080/",
          "height": 630
        },
        "id": "bIqOB_k6QSry",
        "outputId": "17ada2fa-781b-4ff4-e69f-8b77920269ee"
      },
      "execution_count": 10,
      "outputs": [
        {
          "output_type": "stream",
          "name": "stdout",
          "text": [
            "Model Accuracy: 0.98\n",
            "Colab notebook detected. To show errors in colab notebook, set debug=True in launch()\n",
            "* Running on public URL: https://5b2c460c491eda6e5f.gradio.live\n",
            "\n",
            "This share link expires in 1 week. For free permanent hosting and GPU upgrades, run `gradio deploy` from the terminal in the working directory to deploy to Hugging Face Spaces (https://huggingface.co/spaces)\n"
          ]
        },
        {
          "output_type": "display_data",
          "data": {
            "text/plain": [
              "<IPython.core.display.HTML object>"
            ],
            "text/html": [
              "<div><iframe src=\"https://5b2c460c491eda6e5f.gradio.live\" width=\"100%\" height=\"500\" allow=\"autoplay; camera; microphone; clipboard-read; clipboard-write;\" frameborder=\"0\" allowfullscreen></iframe></div>"
            ]
          },
          "metadata": {}
        }
      ]
    }
  ]
}